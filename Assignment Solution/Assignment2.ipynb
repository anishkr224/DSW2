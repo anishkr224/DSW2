{
 "cells": [
  {
   "cell_type": "markdown",
   "id": "ba110495",
   "metadata": {},
   "source": [
    "## Data Science Workshop-2 (CSE 2196)\n",
    "### ASSIGNMENT-2(PROB AND STAT, LINEAR ALGEBRA)\n",
    "\n",
    "### Name: Anish Kumar\n",
    "### Regd. No: 2241011101\n",
    "### Section: 2241007"
   ]
  },
  {
   "cell_type": "markdown",
   "id": "3965950e",
   "metadata": {},
   "source": [
    "###### 1. An Earphone manufacturing company claims that the average life of its product is 2.1 years. If the standard deviation is 0.17 and the significance level is set to 0.05. Do hypothesis testing to see if company’s claim is right or wrong? We have the following 10 samples.\n",
    "\n",
    "Battery life-1.9,2.3,2.1,2.2,1.9,2.4,2.1,2.3,2.2,2.0"
   ]
  },
  {
   "cell_type": "code",
   "execution_count": 79,
   "id": "3d86205c",
   "metadata": {},
   "outputs": [
    {
     "name": "stdout",
     "output_type": "stream",
     "text": [
      "Fail to reject the null hypothesis.\n"
     ]
    }
   ],
   "source": [
    "import numpy as np\n",
    "from scipy.stats import norm\n",
    "mu = 2.1\n",
    "sigma = 0.17 \n",
    "n = 10\n",
    "alpha = 0.05\n",
    "sample_data = [1.9, 2.3, 2.1, 2.2, 1.9, 2.4, 2.1, 2.3, 2.2, 2.0]\n",
    "sample_mean = np.mean(sample_data)\n",
    "z_score = (sample_mean - mu) / (sigma / np.sqrt(n))\n",
    "critical_value = norm.ppf(1 - alpha / 2)\n",
    "if abs(z_score) > critical_value:\n",
    "    print(\"Reject the null hypothesis.\")\n",
    "else:\n",
    "    print(\"Fail to reject the null hypothesis.\")"
   ]
  },
  {
   "cell_type": "markdown",
   "id": "d96c471d",
   "metadata": {},
   "source": [
    "###### 2. What can you say if the company had claimed that the average life of it’s batteries are 4.1 with a standard deviation of 0.1"
   ]
  },
  {
   "cell_type": "code",
   "execution_count": 11,
   "id": "48521b40",
   "metadata": {},
   "outputs": [
    {
     "name": "stdout",
     "output_type": "stream",
     "text": [
      "Reject the null hypothesis.\n"
     ]
    }
   ],
   "source": [
    "import numpy as np\n",
    "from scipy.stats import norm\n",
    "mu = 4.1\n",
    "sigma = 0.1 \n",
    "n = 10\n",
    "alpha = 0.05\n",
    "sample_data = [1.9, 2.3, 2.1, 2.2, 1.9, 2.4, 2.1, 2.3, 2.2, 2.0]\n",
    "sample_mean = np.mean(sample_data)\n",
    "z_score = (sample_mean - mu) / (sigma / np.sqrt(n))\n",
    "critical_value = norm.ppf(1 - alpha / 2)\n",
    "if abs(z_score) > critical_value:\n",
    "    print(\"Reject the null hypothesis.\")\n",
    "else:\n",
    "    print(\"Fail to reject the null hypothesis.\")"
   ]
  },
  {
   "cell_type": "markdown",
   "id": "b161438b",
   "metadata": {},
   "source": [
    "###### 3.  What are random variables? Discuss about continuous and discrete random variables with examples\n",
    " \n",
    "\n",
    "Random variables are variables whose possible values are numerical outcomes of a random phenomenon.\n",
    "\n",
    "They can be categorized as:\n",
    "\n",
    "1. Continuous random variable: Continuous random variables having an infinite number of potential values.\n",
    "\n",
    "Example: The temperature measured at a specific location.\n",
    "\n",
    "2. Discrete random variable: Discrete random variables having a countable number of distinct values.\n",
    "\n",
    "Example: The number of heads obtained when flipping a coin multiple times.\n"
   ]
  },
  {
   "cell_type": "markdown",
   "id": "ffbfbd3f",
   "metadata": {},
   "source": [
    "###### 4. Write a program\n",
    "\n",
    "###### a. To compute the mean, median and mode of a python list."
   ]
  },
  {
   "cell_type": "code",
   "execution_count": 3,
   "id": "c893bc65",
   "metadata": {},
   "outputs": [
    {
     "name": "stdout",
     "output_type": "stream",
     "text": [
      "mean: 4.875\n",
      "median: 4.5\n",
      "mode: 1\n"
     ]
    }
   ],
   "source": [
    "import numpy as np\n",
    "from statistics import mode\n",
    "l=[1,2,4,9,5,7,8,3]\n",
    "print('mean:',np.mean(l))\n",
    "print('median:',np.median(l))\n",
    "print('mode:',mode(l))"
   ]
  },
  {
   "cell_type": "code",
   "execution_count": 2,
   "id": "93f19bc6",
   "metadata": {},
   "outputs": [
    {
     "name": "stdout",
     "output_type": "stream",
     "text": [
      "mean: 4.875\n",
      "median: 4.5\n",
      "mode: 1\n"
     ]
    }
   ],
   "source": [
    "l=[1,2,4,9,5,7,8,3]\n",
    "def mean(l):\n",
    "    s=0\n",
    "    for i in l:\n",
    "        s=s+i\n",
    "    return s/len(l)\n",
    "\n",
    "def median(l):\n",
    "    s = l.sort()\n",
    "    n = len(l)\n",
    "    if n%2 == 0:\n",
    "        median1 = l[n//2] \n",
    "        median2 = l[n//2 - 1] \n",
    "        median = (median1 + median2)/2\n",
    "    else:\n",
    "        median = l[n//2] \n",
    "    return median\n",
    "\n",
    "def mode(l):\n",
    "    # Create a dictionary to store the frequency of each number.\n",
    "    freq = {}\n",
    "    for i in l:\n",
    "        if i in freq:\n",
    "            freq[i] = freq[i]+1\n",
    "        else:\n",
    "            freq[i] = 1\n",
    "\n",
    "    # Find the number with the highest frequency.\n",
    "    max_count = 0\n",
    "    mode = None\n",
    "    for number, count in freq.items():\n",
    "        if count > max_count:\n",
    "            max_count = count\n",
    "            mode = number\n",
    "    return mode\n",
    "print('mean:',mean(l))\n",
    "print('median:',median(l))\n",
    "print('mode:',mode(l))"
   ]
  },
  {
   "cell_type": "markdown",
   "id": "bbd3d85d",
   "metadata": {},
   "source": [
    "###### b. To compute the variance and standrad deviation of a vector(list)."
   ]
  },
  {
   "cell_type": "code",
   "execution_count": 23,
   "id": "4ff319ce",
   "metadata": {},
   "outputs": [
    {
     "name": "stdout",
     "output_type": "stream",
     "text": [
      "5.387755102040818\n",
      "2.321153829895989\n"
     ]
    }
   ],
   "source": [
    "l=[1,2,4,4,5,7,8]\n",
    "print(np.var(l))\n",
    "print(np.std(l))"
   ]
  },
  {
   "cell_type": "code",
   "execution_count": 193,
   "id": "1c4d5305",
   "metadata": {},
   "outputs": [
    {
     "name": "stdout",
     "output_type": "stream",
     "text": [
      "Variance: 5.387755102040818\n"
     ]
    }
   ],
   "source": [
    "x=[1,2,4,4,5,7,8]\n",
    "def var(x):\n",
    "    v=0\n",
    "    l=len(x)\n",
    "    for i in x:\n",
    "        v=v+(i-mean(x))**2\n",
    "        var=v/l\n",
    "    return var\n",
    "print('Variance:',var(x))"
   ]
  },
  {
   "cell_type": "code",
   "execution_count": 195,
   "id": "ee7c468a",
   "metadata": {},
   "outputs": [
    {
     "name": "stdout",
     "output_type": "stream",
     "text": [
      "Standrad deviation: 2.321153829895989\n"
     ]
    }
   ],
   "source": [
    "x=[1,2,4,4,5,7,8]\n",
    "def std(x):\n",
    "    v=0\n",
    "    l=len(x)\n",
    "    for i in x:\n",
    "        v=v+(i-mean(x))**2\n",
    "        s=(v/l)**0.5\n",
    "    return s\n",
    "print(\"Standrad deviation:\",std(x))"
   ]
  },
  {
   "cell_type": "markdown",
   "id": "fc7906bf",
   "metadata": {},
   "source": [
    " ###### c. To compute the covariance and correlation between two vectors(list)."
   ]
  },
  {
   "cell_type": "code",
   "execution_count": 199,
   "id": "b2434665",
   "metadata": {},
   "outputs": [
    {
     "name": "stdout",
     "output_type": "stream",
     "text": [
      "Co-variance: 4.0\n"
     ]
    }
   ],
   "source": [
    "x = [1, 2, 3, 4, 5]\n",
    "y = [2, 4, 6, 8, 10]\n",
    "def coVar(x,y):\n",
    "    if len(x)==len(y):\n",
    "        v=0\n",
    "        for i,j in zip(x,y):\n",
    "            v=v+((i-mean(x))*(j-mean(y)))\n",
    "        cVar=v/len(x)\n",
    "    return cVar\n",
    "print('Co-variance:',coVar(x,y))"
   ]
  },
  {
   "cell_type": "code",
   "execution_count": 198,
   "id": "c96d0445",
   "metadata": {},
   "outputs": [
    {
     "name": "stdout",
     "output_type": "stream",
     "text": [
      "Co-Relation: 0.9999999999999998\n"
     ]
    }
   ],
   "source": [
    "x = [1, 2, 3, 4, 5]\n",
    "y = [2, 4, 6, 8, 10]\n",
    "def coRel(x,y):\n",
    "    c=coVar(x,y)/(std(x)*std(y))\n",
    "    return c\n",
    "print('Co-Relation:',coRel(x,y))"
   ]
  },
  {
   "cell_type": "code",
   "execution_count": 109,
   "id": "de5bd35b",
   "metadata": {},
   "outputs": [
    {
     "name": "stdout",
     "output_type": "stream",
     "text": [
      "Covariance:5.0, Correlation: 0.9999999999999999\n"
     ]
    }
   ],
   "source": [
    "import pandas as pd\n",
    "v1 = [1, 2, 3, 4, 5]\n",
    "v2 = [2, 4, 6, 8, 10]\n",
    "df = pd.DataFrame({'v1': v1, 'v2': v2})\n",
    "cov= df['v1'].cov(df['v2'])\n",
    "corr=df['v1'].corr(df['v2'])\n",
    "print(f'Covariance:{cov}, Correlation: {corr}')"
   ]
  },
  {
   "cell_type": "code",
   "execution_count": 107,
   "id": "d0a85b9c",
   "metadata": {},
   "outputs": [
    {
     "name": "stdout",
     "output_type": "stream",
     "text": [
      "Covariance:10.0, Correlation: 0.9999999999999999\n"
     ]
    }
   ],
   "source": [
    "import numpy as np\n",
    "v1 = [1, 3, 5, 7, 9]\n",
    "v2 = [2, 4, 6, 8, 10]\n",
    "cov= np.cov(v1, v2)[0,1]\n",
    "cor= np.corrcoef(v1, v2)[0,1]\n",
    "print(f'Covariance:{cov}, Correlation: {corr}')"
   ]
  },
  {
   "cell_type": "markdown",
   "id": "7132bdd6",
   "metadata": {},
   "source": [
    "###### 5. State central limit theorem. Demonstrate CLT with an example. Use python programming for the following steps. Consider a population which satisfies binomial distribution. Draw random samples from the population, find each sample mean. What can you say about the list containing sample means.\n",
    "\n",
    "The central limit theorem states that if a sample size\n",
    " is large enough, the means of samples will be normally distributed\n",
    ". This is true even if the population is not normally distributed"
   ]
  },
  {
   "cell_type": "code",
   "execution_count": 141,
   "id": "e3831ca2",
   "metadata": {},
   "outputs": [
    {
     "data": {
      "image/png": "[encoded data removed]",
      "text/plain": [
       "<Figure size 600x400 with 1 Axes>"
      ]
     },
     "metadata": {},
     "output_type": "display_data"
    }
   ],
   "source": [
    "import numpy as np\n",
    "import matplotlib.pyplot as plt\n",
    "\n",
    "# Parameters for the binomial distribution\n",
    "\n",
    "population_size = 10000 # population size\n",
    "n_samples = 1000  # Number of samples to draw\n",
    "sample_size = 30  # Size of each sample\n",
    "p_success = 0.5  # Probability of success for each trial\n",
    "\n",
    "# Generate the population data (binomial distribution)\n",
    "population_data = np.random.binomial(n=1, p=p_success, size=population_size)\n",
    "\n",
    "\n",
    "# Generate random samples from the population and calculate sample means\n",
    "sample_means = []\n",
    "for _ in range(n_samples):\n",
    "    sample = np.random.choice(population_data, size=sample_size)\n",
    "    sample_mean = np.mean(sample)\n",
    "    sample_means.append(sample_mean)\n",
    "\n",
    "# Plot the histogram of sample means\n",
    "plt.figure(figsize=(6, 4))\n",
    "plt.hist(sample_means, bins=30, density=True, color='blue', edgecolor='black')\n",
    "plt.title('Distribution of Sample Means (CLT Demonstration)')\n",
    "plt.xlabel('Sample Mean')\n",
    "plt.ylabel('Density')\n",
    "plt.show()"
   ]
  },
  {
   "cell_type": "code",
   "execution_count": 144,
   "id": "ce74ea85",
   "metadata": {},
   "outputs": [
    {
     "data": {
      "image/png": "[encoded data removed]",
      "text/plain": [
       "<Figure size 640x480 with 2 Axes>"
      ]
     },
     "metadata": {},
     "output_type": "display_data"
    },
    {
     "data": {
      "text/plain": [
       "'As you can see first figure shows a binomial distribution with just two\\noptions as answer 0 or 1 but as you keep taking sample means and\\nplot the sampling distribution it makes a normal distribution'"
      ]
     },
     "execution_count": 144,
     "metadata": {},
     "output_type": "execute_result"
    }
   ],
   "source": [
    "# Plot the histogram of sample means\n",
    "plt.subplot(2,1,1)\n",
    "plt.hist(population_data, density=True, color='skyblue', edgecolor='black')\n",
    "\n",
    "plt.subplot(2,1,2)\n",
    "plt.hist(sample_means, bins=30, density=True, color='skyblue', edgecolor='black')\n",
    "\n",
    "plt.title('Distribution of Sample Means (CLT Demonstration)')\n",
    "plt.xlabel('Sample Mean')\n",
    "plt.ylabel('Probability Density')\n",
    "plt.tight_layout()\n",
    "plt.show()\n",
    "\n",
    "\"\"\"As you can see first figure shows a binomial distribution with just two\n",
    "options as answer 0 or 1 but as you keep taking sample means and\n",
    "plot the sampling distribution it makes a normal distribution\"\"\""
   ]
  },
  {
   "cell_type": "code",
   "execution_count": 147,
   "id": "ad59ffa5",
   "metadata": {},
   "outputs": [
    {
     "data": {
      "text/plain": [
       "<seaborn.axisgrid.FacetGrid at 0x248b4a98ad0>"
      ]
     },
     "execution_count": 147,
     "metadata": {},
     "output_type": "execute_result"
    },
    {
     "data": {
      "image/png": "[encoded data removed]",
      "text/plain": [
       "<Figure size 500x500 with 1 Axes>"
      ]
     },
     "metadata": {},
     "output_type": "display_data"
    }
   ],
   "source": [
    "import seaborn as sns\n",
    "sns.displot(sample_means, kind=\"kde\")"
   ]
  },
  {
   "cell_type": "markdown",
   "id": "c098c810",
   "metadata": {},
   "source": [
    "###### 6. What is Baye’s theorem. What are some real-world applications of Bayes’ theorem in fields such as medicine and machine learning?\n",
    "\n",
    "Bayes' theorem describes the probability of occurrence of an event related to any condition. It helps us to determine the likelihood that one event will occur with unclear information while another has already happened. \n",
    "\n",
    "P(A∣B)= P(B∣A)⋅P(A)/ P(B)\n",
    "\n",
    "Where:\n",
    " \n",
    "P(A∣B) is the probability of event A occurring given that event B has occurred.\n",
    " \n",
    "P(B∣A) is the probability of event B occurring given that event A has occurred.\n",
    " \n",
    "P(A) and P(B) are the probabilities of events A and B occurring independently\n",
    "\n",
    "Real-World Applications: \n",
    "1. Medicine:\n",
    "\n",
    "Medical Diagnosis: Bayes' theorem is used in medical diagnosis to assess the probability of a patient having a particular disease given certain symptoms.\n",
    " \n",
    "Genetic Testing: Bayes' theorem is applied in genetics to interpret the results of genetic testing and assess the likelihood of an individual having a genetic disorder based on their genetic makeup.\n",
    " \n",
    "2. Machine Learning:\n",
    "\n",
    "Spam Filtering: Bayes' theorem is used in spam filtering algorithms to classify emails as spam or non-spam. It calculates the probability that an email is spam given certain features (e.g., words in the email).\n",
    " \n",
    " Other examples can be Quality control, fault analysis, risk management,etc."
   ]
  },
  {
   "cell_type": "markdown",
   "id": "93e70135",
   "metadata": {},
   "source": [
    "###### 7. A certain disease affects 1 in every 500 people. A diagnostic test for the disease is 99% accurate when a person has the disease and 95% accurate when a person does not have the disease. If a person tests positive for the disease, what is the probability that they actually have it?\n",
    "\n",
    "###### 8. In a spam detection system, 1% of emails are actually spam. The spam filter correctly identifies 95% of spam emails but also incorrectly marks 3% of legitimate emails as spam. If an email is flagged as spam by the filter, what is the probability that it is actually spam?"
   ]
  },
  {
   "cell_type": "markdown",
   "id": "825c97a4",
   "metadata": {},
   "source": [
    "###### 9. Consider two vectors of length n(input from the user). Take the vectors as input from the user. Write a python program to find the\n",
    "\n",
    "a. It’s dot product\n",
    "\n",
    "b. Distance between two vectors.\n",
    "\n",
    "c. Sum of the two vectors.\n",
    "\n",
    "d. Normalize a vector"
   ]
  },
  {
   "cell_type": "code",
   "execution_count": 159,
   "id": "f83a1cf5",
   "metadata": {},
   "outputs": [
    {
     "name": "stdout",
     "output_type": "stream",
     "text": [
      "Enter the length of the vectors: 2\n",
      "Enter the values for the first vector:\n",
      "22\n",
      "11\n",
      "Enter the values for the second vector:\n",
      "09\n",
      "02\n",
      "Dot Product of the two vectors: 220.0\n",
      "Distance between the two vectors: 15.811388300841896\n",
      "Sum of the two vectors: [31. 13.]\n",
      "Normalized Vector: [0.89442719 0.4472136 ]\n"
     ]
    }
   ],
   "source": [
    "import numpy as np\n",
    "\n",
    "# Function to calculate dot product of two vectors\n",
    "def dot_product(v1, v2):\n",
    "    return np.dot(v1, v2)\n",
    "\n",
    "# Function to calculate Euclidean distance between two vectors\n",
    "def distance(v1, v2):\n",
    "    return np.linalg.norm(v1 - v2)\n",
    "\n",
    "# Function to calculate sum of two vectors\n",
    "def vector_sum(v1, v2):\n",
    "    return np.add(v1, v2)\n",
    "\n",
    "# Function to normalize a vector\n",
    "def normalize_vector(v):\n",
    "    norm = np.linalg.norm(v)\n",
    "    if norm == 0:\n",
    "        return v\n",
    "    return v / norm\n",
    "\n",
    "# Take input from the user for vector length and values\n",
    "n = int(input(\"Enter the length of the vectors: \"))\n",
    "print(\"Enter the values for the first vector:\")\n",
    "vector1 = np.array([float(input()) for _ in range(n)])\n",
    "print(\"Enter the values for the second vector:\")\n",
    "vector2 = np.array([float(input()) for _ in range(n)])\n",
    "\n",
    "# Calculate and print the dot product of the two vectors\n",
    "dot_product_result = dot_product(vector1, vector2)\n",
    "print(\"Dot Product of the two vectors:\", dot_product_result)\n",
    "\n",
    "# Calculate and print the Euclidean distance between the two vectors\n",
    "distance_result = distance(vector1, vector2)\n",
    "print(\"Distance between the two vectors:\", distance_result)\n",
    "\n",
    "# Calculate and print the sum of the two vectors\n",
    "sum_result = vector_sum(vector1, vector2)\n",
    "print(\"Sum of the two vectors:\", sum_result)\n",
    "\n",
    "# Normalize the first vector and print the normalized vector\n",
    "normalized_vector = normalize_vector(vector1)\n",
    "print(\"Normalized Vector:\", normalized_vector)\n"
   ]
  },
  {
   "cell_type": "code",
   "execution_count": 161,
   "id": "6ef082db",
   "metadata": {},
   "outputs": [
    {
     "name": "stdout",
     "output_type": "stream",
     "text": [
      "Enter the length of the vector: 2\n",
      "Enter element 1 of the vector:22\n",
      "Enter element 2 of the vector:04\n",
      "Enter element 1 of the vector:09\n",
      "Enter element 2 of the vector:02\n",
      "The dot product of the two vectors is: 220.0\n",
      "The Euclidean distance between the two vectors is: 15.811388300841896\n",
      "The sum of the two vectors is: [31.0, 13.0]\n",
      "The normalized form of the first vector is: [0.8944271909999159, 0.4472135954999579]\n",
      "The normalized form of the second vector is: [0.36590203268178373, 0.08131156281817417]\n"
     ]
    }
   ],
   "source": [
    "import numpy as np\n",
    "import math\n",
    "def inputfun(n):\n",
    "    v=[]\n",
    "    for i in range(n):\n",
    "        e = float(input(f\"Enter element {i+1} of the vector:\"))\n",
    "        v.append(e)\n",
    "    return v\n",
    "\n",
    "n = int(input(\"Enter the length of the vector: \"))\n",
    "v1 = inputfun(n)\n",
    "v2 = inputfun(n)\n",
    "\n",
    "# a. Dot product of the vectors\n",
    "dot_product = sum(x * y for x, y in zip(vector1, vector2))\n",
    "print(f\"The dot product of the two vectors is: {dot_product}\")\n",
    "\n",
    "# b. Euclidean distance between the vectors\n",
    "distance = math.sqrt(sum((x - y) ** 2 for x, y in zip(vector1, vector2)))\n",
    "print(f\"The Euclidean distance between the two vectors is: {distance}\")\n",
    "\n",
    "# c. Sum of the two vectors\n",
    "sum_vector = [x + y for x, y in zip(vector1, vector2)]\n",
    "print(f\"The sum of the two vectors is: {sum_vector}\")\n",
    "\n",
    "# d. Normalize a vector\n",
    "magnitude1 = math.sqrt(sum(x ** 2 for x in vector1))\n",
    "magnitude2 = math.sqrt(sum(x ** 2 for x in vector1))\n",
    "normalized_vector1 = [x / magnitude1 for x in vector1]\n",
    "normalized_vector2 = [x / magnitude2 for x in vector2]\n",
    "print(f\"The normalized form of the first vector is: {normalized_vector1}\")\n",
    "print(f\"The normalized form of the second vector is: {normalized_vector2}\")"
   ]
  },
  {
   "cell_type": "markdown",
   "id": "35f21a9e",
   "metadata": {},
   "source": [
    "###### 10. Take two 2 × 2 matrices as user input. Write a python program to find the sum of the two matrices."
   ]
  },
  {
   "cell_type": "code",
   "execution_count": 168,
   "id": "3d0fc4a0",
   "metadata": {},
   "outputs": [
    {
     "name": "stdout",
     "output_type": "stream",
     "text": [
      "Enter the elements for the first 2x2 matrix rowwise:\n",
      "Enter matrix element: 1\n",
      "Enter matrix element: 2\n",
      "Enter matrix element: 3\n",
      "Enter matrix element: 4\n",
      "Enter the elements for the first 2x2 matrix rowwise:\n",
      "Enter matrix element: 4\n",
      "Enter matrix element: 3\n",
      "Enter matrix element: 2\n",
      "Enter matrix element: 1\n",
      "[[1, 2], [3, 4]]\n",
      "[[4, 3], [2, 1]]\n",
      "result: [[5, 5], [5, 5]]\n"
     ]
    }
   ],
   "source": [
    "def inputMatrix(r,c):\n",
    "    M=[]\n",
    "    for i in range(r):\n",
    "        m=[]\n",
    "        for j in range(c):\n",
    "            x=int(input(\"Enter matrix element: \"))\n",
    "            m.append(x)\n",
    "        M.append(m)\n",
    "    return M\n",
    "        \n",
    "r=2\n",
    "c=2\n",
    "print(\"Enter the elements for the first 2x2 matrix rowwise:\")\n",
    "m1 = inputMatrix(r,c)\n",
    "print(\"Enter the elements for the first 2x2 matrix rowwise:\")\n",
    "m2 = inputMatrix(r,c)\n",
    "\n",
    "print(m1)\n",
    "print(m2)\n",
    "result = [[m1[i][j] + m2[i][j] for j in range(len(m1[0]))] for i in range (len(m1))]\n",
    "print(\"result:\",result)"
   ]
  },
  {
   "cell_type": "code",
   "execution_count": 171,
   "id": "49c3b8dd",
   "metadata": {},
   "outputs": [
    {
     "data": {
      "text/plain": [
       "array([[5, 5],\n",
       "       [5, 5]])"
      ]
     },
     "execution_count": 171,
     "metadata": {},
     "output_type": "execute_result"
    }
   ],
   "source": [
    "import numpy as np\n",
    "result=np.add(m1,m2)\n",
    "result"
   ]
  },
  {
   "cell_type": "code",
   "execution_count": 172,
   "id": "0475234f",
   "metadata": {},
   "outputs": [
    {
     "name": "stdout",
     "output_type": "stream",
     "text": [
      "Enter the elements for the first 2x2 matrix:\n",
      "1\n",
      "2\n",
      "3\n",
      "4\n",
      "Enter the elements for the second 2x2 matrix:\n",
      "4\n",
      "3\n",
      "2\n",
      "1\n"
     ]
    },
    {
     "data": {
      "text/plain": [
       "[[5, 5], [5, 5]]"
      ]
     },
     "execution_count": 172,
     "metadata": {},
     "output_type": "execute_result"
    }
   ],
   "source": [
    "print(\"Enter the elements for the first 2x2 matrix:\")\n",
    "matrix1 = [[int(input()) for _ in range(2)] for _ in range(2)]\n",
    "print(\"Enter the elements for the second 2x2 matrix:\")\n",
    "matrix2 = [[int(input()) for _ in range(2)] for _ in range(2)]\n",
    "result = [[matrix1[i][j] + matrix2[i][j] for j in range(len(matrix1[0]))] for i in range(len(matrix1))]\n",
    "result"
   ]
  }
 ],
 "metadata": {
  "kernelspec": {
   "display_name": "Python 3 (ipykernel)",
   "language": "python",
   "name": "python3"
  },
  "language_info": {
   "codemirror_mode": {
    "name": "ipython",
    "version": 3
   },
   "file_extension": ".py",
   "mimetype": "text/x-python",
   "name": "python",
   "nbconvert_exporter": "python",
   "pygments_lexer": "ipython3",
   "version": "3.11.4"
  }
 },
 "nbformat": 4,
 "nbformat_minor": 5
}
